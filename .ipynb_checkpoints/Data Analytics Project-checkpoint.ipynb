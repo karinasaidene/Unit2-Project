{
 "cells": [
  {
   "cell_type": "markdown",
   "metadata": {},
   "source": [
    "<img src=\"Logo.png\" width=\"100\" align=\"left\"/> \n",
    "\n",
    "# <center>Data Analytics project:</center>\n",
    "\n",
    "\n",
    "\n",
    "Congratulations on finishing the lessons content for this second unit !\n",
    "\n",
    "We have seen a lot of concepts in the second unit and we had the chance to test some of them. Now, we get to see how these different concepts are used to better understand our data."
   ]
  },
  {
   "cell_type": "markdown",
   "metadata": {},
   "source": [
    "## Some guidelines: \n",
    "1. To run a cell you can use the shortcut use : Shift + Enter\n",
    "\n",
    "2. Only sections mentioned as To-Do are the places where you should put in your own code other than that we do not recommend that you change the provided code.\n",
    "\n",
    "3. You will be graded for the visibility of your code so make sure you respect the correct indentation and that your code contains suitable variables names.\n",
    "\n",
    "4. This notebook is designed in a sequential way so if you solve your project on different days make sure to run the previous cells before you can run the one you want.\n",
    "\n",
    "5. Teacher assistants in the slack space remain available to answer any questions you might have.\n",
    "\n",
    ">Best of luck ! "
   ]
  },
  {
   "cell_type": "markdown",
   "metadata": {},
   "source": [
    "## Project Sections:\n",
    "In this project you will practice some of the concepts seen in the data analytics unit, you will deal with a real dataset. This dataset contains house sale prices for King County. It includes homes sold between May 2014 and May 2015.\n",
    "\n",
    "Our goal is to analyze this dataset, clean it then create a simple linear regression model using it.\n",
    "\n",
    "This project is devided into n sections : \n",
    "1. [Setting the environement](#set_env)\n",
    "\n",
    "2. [Importing necessary tools](#importing)\n",
    "\n",
    "3. [Dataset discovery](#dataset_discovery)\n",
    "\n",
    "4. [NA handling](#na_handling)\n",
    "\n",
    "5. [Useless variables deletion](#useless_var)\n",
    "\n",
    "6. [Outliers detection](#outliers)\n",
    "\n",
    "7. [Feature selection](#feature_selection)\n",
    "\n",
    "8. [Linear regression](#linear_reg)"
   ]
  },
  {
   "cell_type": "markdown",
   "metadata": {},
   "source": [
    "### 1. Setting the environement:  <a id='set_env'></a>"
   ]
  },
  {
   "cell_type": "code",
   "execution_count": 1,
   "metadata": {},
   "outputs": [
    {
     "name": "stdout",
     "output_type": "stream",
     "text": [
      "Requirement already satisfied: virtualenv in c:\\users\\dell\\appdata\\roaming\\python\\python38\\site-packages (20.10.0)\n",
      "Requirement already satisfied: platformdirs<3,>=2 in c:\\users\\dell\\appdata\\roaming\\python\\python38\\site-packages (from virtualenv) (2.4.0)\n",
      "Requirement already satisfied: distlib<1,>=0.3.1 in c:\\users\\dell\\appdata\\roaming\\python\\python38\\site-packages (from virtualenv) (0.3.3)\n",
      "Requirement already satisfied: six<2,>=1.9.0 in c:\\users\\dell\\anaconda3\\lib\\site-packages (from virtualenv) (1.15.0)\n",
      "Requirement already satisfied: filelock<4,>=3.2 in c:\\users\\dell\\appdata\\roaming\\python\\python38\\site-packages (from virtualenv) (3.3.2)\n",
      "Requirement already satisfied: backports.entry-points-selectable>=1.0.4 in c:\\users\\dell\\appdata\\roaming\\python\\python38\\site-packages (from virtualenv) (1.1.1)\n"
     ]
    }
   ],
   "source": [
    "# Make sure you have virtualenv installed \n",
    "!pip install --user virtualenv"
   ]
  },
  {
   "cell_type": "code",
   "execution_count": 2,
   "metadata": {},
   "outputs": [],
   "source": [
    "# To-Do: create a virtual environement called data_analytics\n",
    "!python -m venv data_analytics"
   ]
  },
  {
   "cell_type": "code",
   "execution_count": 3,
   "metadata": {},
   "outputs": [],
   "source": [
    "# Activate the environement for windows\n",
    "!.\\data_analytics\\Scripts\\activate"
   ]
  },
  {
   "cell_type": "code",
   "execution_count": 25,
   "metadata": {},
   "outputs": [
    {
     "name": "stderr",
     "output_type": "stream",
     "text": [
      "'.' n'est pas reconnu en tant que commande interne\n",
      "ou externe, un programme ex‚cutable ou un fichier de commandes.\n"
     ]
    }
   ],
   "source": [
    "# Activate the environement for linux (debian based)\n",
    "#!. data_analytics/bin/activate"
   ]
  },
  {
   "cell_type": "markdown",
   "metadata": {},
   "source": [
    "### 2. Importing necessary tools:<a id='importing'></a>"
   ]
  },
  {
   "cell_type": "code",
   "execution_count": 4,
   "metadata": {},
   "outputs": [],
   "source": [
    "import pandas as pd\n",
    "import matplotlib.pyplot as plt\n",
    "import seaborn as sns"
   ]
  },
  {
   "cell_type": "markdown",
   "metadata": {},
   "source": [
    "### 3. Dataset discovery:<a id='dataset_discovery'></a>"
   ]
  },
  {
   "cell_type": "code",
   "execution_count": 5,
   "metadata": {},
   "outputs": [
    {
     "data": {
      "text/plain": [
       "(21613, 21)"
      ]
     },
     "execution_count": 5,
     "metadata": {},
     "output_type": "execute_result"
    }
   ],
   "source": [
    "# To-Do: Read the file (\"kc_house_data.csv\") using pandas and store in a dataframe called df\n",
    "df=pd.read_csv('kc_house_data.csv')\n",
    "\n",
    "# To-Do: Print the dataframe's shape\n",
    "df.shape"
   ]
  },
  {
   "cell_type": "code",
   "execution_count": 8,
   "metadata": {},
   "outputs": [
    {
     "name": "stdout",
     "output_type": "stream",
     "text": [
      "<class 'pandas.core.frame.DataFrame'>\n",
      "Int64Index: 21588 entries, 0 to 21612\n",
      "Data columns (total 21 columns):\n",
      " #   Column         Non-Null Count  Dtype  \n",
      "---  ------         --------------  -----  \n",
      " 0   id             21588 non-null  int64  \n",
      " 1   date           21588 non-null  object \n",
      " 2   price          21588 non-null  float64\n",
      " 3   bedrooms       21588 non-null  int64  \n",
      " 4   bathrooms      21588 non-null  float64\n",
      " 5   sqft_living    21588 non-null  float64\n",
      " 6   sqft_lot       21588 non-null  float64\n",
      " 7   floors         21588 non-null  float64\n",
      " 8   waterfront     21588 non-null  int64  \n",
      " 9   view           21588 non-null  int64  \n",
      " 10  condition      21588 non-null  int64  \n",
      " 11  grade          21588 non-null  int64  \n",
      " 12  sqft_above     21588 non-null  float64\n",
      " 13  sqft_basement  21588 non-null  int64  \n",
      " 14  yr_built       21588 non-null  float64\n",
      " 15  yr_renovated   21588 non-null  float64\n",
      " 16  zipcode        21588 non-null  float64\n",
      " 17  lat            21588 non-null  float64\n",
      " 18  long           21588 non-null  float64\n",
      " 19  sqft_living15  21588 non-null  float64\n",
      " 20  sqft_lot15     21588 non-null  int64  \n",
      "dtypes: float64(12), int64(8), object(1)\n",
      "memory usage: 3.6+ MB\n"
     ]
    }
   ],
   "source": [
    "# To-Do: Print the dataframe's info\n",
    "df.info()"
   ]
  },
  {
   "cell_type": "markdown",
   "metadata": {},
   "source": [
    "### 4. NA handling:<a id='na_handling'></a>\n",
    "It is clear after printing the dataset info that there are some variables that have less entries than the number of rows which means that some of them don't have values in certain rows.\n",
    "\n",
    "Given the number of the na values, what do you think is the best method to deal with them?"
   ]
  },
  {
   "cell_type": "code",
   "execution_count": 9,
   "metadata": {},
   "outputs": [
    {
     "data": {
      "text/plain": [
       "id               0\n",
       "date             0\n",
       "price            0\n",
       "bedrooms         0\n",
       "bathrooms        0\n",
       "sqft_living      0\n",
       "sqft_lot         0\n",
       "floors           0\n",
       "waterfront       0\n",
       "view             0\n",
       "condition        0\n",
       "grade            0\n",
       "sqft_above       0\n",
       "sqft_basement    0\n",
       "yr_built         0\n",
       "yr_renovated     0\n",
       "zipcode          0\n",
       "lat              0\n",
       "long             0\n",
       "sqft_living15    0\n",
       "sqft_lot15       0\n",
       "dtype: int64"
      ]
     },
     "execution_count": 9,
     "metadata": {},
     "output_type": "execute_result"
    }
   ],
   "source": [
    "# To-Do: deal with the NAs in your dataset in one line\n",
    "\n",
    "#I ma going to use listwise deletion because there is some missing values in the date features so we can't use the imputation method\n",
    "df.dropna(inplace=True)\n",
    "#check if we deal with all the missing values\n",
    "df.isna().sum()"
   ]
  },
  {
   "cell_type": "markdown",
   "metadata": {},
   "source": [
    "### 5. Useless variables deletion:<a id='useless_var'></a>\n",
    "We want to eventually do a regression on it so naturally some variables bring no added value and can be delted without impacting the results.\n",
    "\n",
    "Delete the column that correspond to variables that aren't needed."
   ]
  },
  {
   "cell_type": "code",
   "execution_count": 36,
   "metadata": {
    "scrolled": true
   },
   "outputs": [
    {
     "data": {
      "text/plain": [
       "price            1.000000\n",
       "bathrooms        0.525422\n",
       "sqft_living      0.702016\n",
       "grade            0.667384\n",
       "sqft_above       0.605637\n",
       "sqft_living15    0.585393\n",
       "Name: price, dtype: float64"
      ]
     },
     "execution_count": 36,
     "metadata": {},
     "output_type": "execute_result"
    },
    {
     "data": {
      "image/png": "[encoded data removed]",
      "text/plain": [
       "<Figure size 432x288 with 2 Axes>"
      ]
     },
     "metadata": {
      "needs_background": "light"
     },
     "output_type": "display_data"
    }
   ],
   "source": [
    "# To-Do: delete the values of the variables that are useless\n",
    "# here we use Filter methods .We will be using the correlation coefficient(Pearson's test)\n",
    "sns.heatmap(df.corr())\n",
    "#correlation with ouput variables\n",
    "cor=df.corr()\n",
    "cor_target=abs(cor[\"price\"])\n",
    "relevant_features = cor_target[cor_target>0.5]\n",
    "relevant_features\n",
    "\n"
   ]
  },
  {
   "cell_type": "code",
   "execution_count": 37,
   "metadata": {},
   "outputs": [
    {
     "name": "stdout",
     "output_type": "stream",
     "text": [
      "             bathrooms  sqft_living\n",
      "bathrooms     1.000000     0.754827\n",
      "sqft_living   0.754827     1.000000\n",
      "           bathrooms     grade\n",
      "bathrooms   1.000000  0.665293\n",
      "grade       0.665293  1.000000\n",
      "            bathrooms  sqft_above\n",
      "bathrooms    1.000000    0.685444\n",
      "sqft_above   0.685444    1.000000\n",
      "            sqft_above     grade\n",
      "sqft_above    1.000000  0.756049\n",
      "grade         0.756049  1.000000\n",
      "               sqft_living15     grade\n",
      "sqft_living15       1.000000  0.713352\n",
      "grade               0.713352  1.000000\n"
     ]
    }
   ],
   "source": [
    "print (df[['bathrooms','sqft_living' ]].corr())\n",
    "print (df[['bathrooms','grade' ]].corr())\n",
    "print (df[['bathrooms','sqft_above' ]].corr())\n",
    "print (df[['sqft_above','grade' ]].corr())\n",
    "print (df[['sqft_living15','grade' ]].corr())"
   ]
  },
  {
   "cell_type": "code",
   "execution_count": 34,
   "metadata": {},
   "outputs": [],
   "source": [
    "#here we are going to delete useless variables like\n",
    "df=df.drop(['bedrooms','sqft_lot','floors','condition','sqft_basement','yr_built','yr_renovated','zipcode','lat','long','sqft_lot15'],axis=1)"
   ]
  },
  {
   "cell_type": "code",
   "execution_count": 35,
   "metadata": {},
   "outputs": [
    {
     "name": "stdout",
     "output_type": "stream",
     "text": [
      "<class 'pandas.core.frame.DataFrame'>\n",
      "Int64Index: 21588 entries, 0 to 21612\n",
      "Data columns (total 8 columns):\n",
      " #   Column         Non-Null Count  Dtype  \n",
      "---  ------         --------------  -----  \n",
      " 0   id             21588 non-null  int64  \n",
      " 1   date           21588 non-null  object \n",
      " 2   price          21588 non-null  float64\n",
      " 3   bathrooms      21588 non-null  float64\n",
      " 4   sqft_living    21588 non-null  float64\n",
      " 5   grade          21588 non-null  int64  \n",
      " 6   sqft_above     21588 non-null  float64\n",
      " 7   sqft_living15  21588 non-null  float64\n",
      "dtypes: float64(5), int64(2), object(1)\n",
      "memory usage: 1.5+ MB\n"
     ]
    }
   ],
   "source": [
    "df.info()"
   ]
  },
  {
   "cell_type": "markdown",
   "metadata": {},
   "source": [
    "### A wild playground appears !!\n",
    "In the next cell, go wild with the dataset discovery.\n",
    "You can calculate the mean, the median or do anything you want to learn more the data.\n",
    "\n",
    "<b>Pro tip :</b> \n",
    "Sometimes you might want to know how many unique variables a column has, to do so you can use the padas function :\n",
    "\n",
    "<center>pd.unique(df['column_name'])</center>"
   ]
  },
  {
   "cell_type": "code",
   "execution_count": 51,
   "metadata": {},
   "outputs": [
    {
     "name": "stdout",
     "output_type": "stream",
     "text": [
      "mean: \n",
      "  id               4.579710e+09\n",
      "price            5.401545e+05\n",
      "bathrooms        2.114670e+00\n",
      "sqft_living      2.079917e+03\n",
      "grade            7.656985e+00\n",
      "sqft_above       1.788385e+03\n",
      "sqft_living15    1.986594e+03\n",
      "dtype: float64 \n",
      "\n",
      "median :\n",
      " id               3.904921e+09\n",
      "price            4.500000e+05\n",
      "bathrooms        2.250000e+00\n",
      "sqft_living      1.910000e+03\n",
      "grade            7.000000e+00\n",
      "sqft_above       1.560000e+03\n",
      "sqft_living15    1.840000e+03\n",
      "dtype: float64 \n",
      "\n",
      "quantile : \n",
      " id               2.123049e+09\n",
      "price            3.219875e+05\n",
      "bathrooms        1.750000e+00\n",
      "sqft_living      1.430000e+03\n",
      "grade            7.000000e+00\n",
      "sqft_above       1.190000e+03\n",
      "sqft_living15    1.490000e+03\n",
      "Name: 0.25, dtype: float64 \n",
      "\n",
      "the standard_variation is : \n",
      " id               2.876673e+09\n",
      "price            3.671493e+05\n",
      "bathrooms        7.700850e-01\n",
      "sqft_living      9.185382e+02\n",
      "grade            1.175540e+00\n",
      "sqft_above       8.282184e+02\n",
      "sqft_living15    6.853650e+02\n",
      "dtype: float64 \n",
      " \n",
      "\n",
      "the number of uniques values the column grade has is :  [ 7  6  8 11  9  5 10 12  4  3 13  1] \n",
      "\n"
     ]
    }
   ],
   "source": [
    "# To-Do : get to know more your data WITHOUT modifying it !!\n",
    "mean = df.mean()\n",
    "median = df.median()\n",
    "quantile_25 = df.quantile(0.25)\n",
    "std = df.std()\n",
    "nb_uniq_grade = pd.unique(df['grade'])\n",
    "print('mean: \\n ',mean,'\\n')\n",
    "print('median :\\n',median,'\\n')\n",
    "print('quantile : \\n',quantile_25,'\\n')\n",
    "print('the standard_variation is : \\n',std,'\\n \\n')\n",
    "print('the number of uniques values the column grade has is : ',nb_uniq_grade,'\\n')\n",
    "\n"
   ]
  },
  {
   "cell_type": "markdown",
   "metadata": {},
   "source": [
    "### 6.Outliers detection:<a id='outliers'></a>\n",
    "Having outliers is a common problem that might affect the quality of the model that we're building.\n",
    "\n",
    "Let's assume that we're not interested in very expensive or very cheap houses, we want a model that best fits the average priced houses.\n",
    "\n",
    "To create such a model, we detect outliers and delete them using the Z-score method seen in the lessons."
   ]
  },
  {
   "cell_type": "code",
   "execution_count": null,
   "metadata": {},
   "outputs": [],
   "source": [
    "# To-Do : detect the outliers then delete them ad delete the column created to calculate the Z-score\n"
   ]
  },
  {
   "cell_type": "code",
   "execution_count": null,
   "metadata": {},
   "outputs": [],
   "source": [
    "df.info()"
   ]
  },
  {
   "cell_type": "markdown",
   "metadata": {},
   "source": [
    "### 7.Feature selection:<a id='feature_selection'></a>\n",
    "It is clear that even after deleting some features, there might be other features that aren't obviously useless but can be delted and keep a good overall performance.\n",
    "\n",
    "To verify this, we perform feature selection on our variables."
   ]
  },
  {
   "cell_type": "code",
   "execution_count": null,
   "metadata": {},
   "outputs": [],
   "source": [
    "# To-Do : perform feature selection using correlation\n"
   ]
  },
  {
   "cell_type": "code",
   "execution_count": null,
   "metadata": {},
   "outputs": [],
   "source": [
    "# To-Do : drop the variables that seem highly correlated to you\n"
   ]
  },
  {
   "cell_type": "markdown",
   "metadata": {},
   "source": [
    "### 8.Linear regression:<a id='linear_reg'></a>\n",
    "Now that our data is clean and ready to be used, let's try to fit it into a linear regression model.\n",
    "\n",
    "<ul>\n",
    "    <li>We begin by splitting our variables into dependant and independant variables.</li>\n",
    "    <li>We create the model using the LinearRegression class.</li>\n",
    "    <li>We evaluate our model using the R² score</li>\n",
    "</ul>"
   ]
  },
  {
   "cell_type": "code",
   "execution_count": null,
   "metadata": {},
   "outputs": [],
   "source": [
    "# Splitting the data into dependant and independant variables\n",
    "Y = df['price']\n",
    "X = df.drop(['price'],axis = 1)"
   ]
  },
  {
   "cell_type": "code",
   "execution_count": null,
   "metadata": {},
   "outputs": [],
   "source": [
    "from sklearn.linear_model import LinearRegression\n",
    "# To-Do : Create a linear regression model using the LinearRegression class then fit it to the data\n"
   ]
  },
  {
   "cell_type": "code",
   "execution_count": null,
   "metadata": {},
   "outputs": [],
   "source": [
    "# The function used to calculate the R² score is the method \"score\" found in the LinearRegression class\n",
    "result.score(X, Y)"
   ]
  },
  {
   "cell_type": "markdown",
   "metadata": {},
   "source": [
    "## Conclusion:\n",
    "Data preparation is a very important step in the machine learning pipeline. It is crucial to clean our data and understand it very well before we can create any model on the data.\n",
    "\n",
    "In this notebook, we have spent 4 steps preparing our data but only 1 to create the model. This reflects how time consuming the process of data preparation is compared to the other steps as well as the importance of the quality of the data used.\n",
    "\n",
    "In the next unit, we will see more about the models creation process and see a lot of important concepts in depth."
   ]
  }
 ],
 "metadata": {
  "kernelspec": {
   "display_name": "Python 3",
   "language": "python",
   "name": "python3"
  },
  "language_info": {
   "codemirror_mode": {
    "name": "ipython",
    "version": 3
   },
   "file_extension": ".py",
   "mimetype": "text/x-python",
   "name": "python",
   "nbconvert_exporter": "python",
   "pygments_lexer": "ipython3",
   "version": "3.8.8"
  }
 },
 "nbformat": 4,
 "nbformat_minor": 2
}
